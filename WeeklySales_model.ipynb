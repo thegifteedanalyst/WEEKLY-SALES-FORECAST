{
 "cells": [
  {
   "cell_type": "code",
   "execution_count": 1,
   "id": "c5037176-5247-41e1-a4a2-5afe517bd8ca",
   "metadata": {},
   "outputs": [],
   "source": [
    "import pandas as pd\n",
    "from sklearn.linear_model import LinearRegression\n",
    "import pickle\n",
    "\n",
    "# Load your historical sales data\n",
    "df = pd.read_csv('Desktop/DATA TYPES/100 Sales Records.csv')\n",
    "df[\"Order Date\"] = pd.to_datetime(df[\"Order Date\"])\n",
    "df = df.sort_values(\"Order Date\")\n",
    "df[\"Day\"] = (df[\"Order Date\"] - df[\"Order Date\"].min()).dt.days\n",
    "\n",
    "# Features and target\n",
    "X = df[[\"Day\"]]\n",
    "y = df[\"Total Revenue\"]\n",
    "\n",
    "# Train the model\n",
    "model = LinearRegression()\n",
    "model.fit(X, y)\n",
    "\n",
    "# Save the model\n",
    "with open(\"weekly_sales_model.pkl\", \"wb\") as f:\n",
    "    pickle.dump(model, f)\n"
   ]
  },
  {
   "cell_type": "code",
   "execution_count": 2,
   "id": "f1838917-211c-466e-a29c-f354481b7720",
   "metadata": {},
   "outputs": [],
   "source": [
    "with open('weekly_sales_model.pkl', 'rb') as file:\n",
    "    model = pickle.load(file)\n",
    "\n",
    "# When predicting:\n",
    "future_days = pd.DataFrame({\"Day\": [df[\"Day\"].max() + i for i in range(1, 8)]})\n",
    "forecast = model.predict(future_days)\n"
   ]
  },
  {
   "cell_type": "code",
   "execution_count": 3,
   "id": "3c0d6e43-20f9-48f0-962a-c678a8e9615b",
   "metadata": {},
   "outputs": [
    {
     "name": "stdout",
     "output_type": "stream",
     "text": [
      "<class 'sklearn.linear_model._base.LinearRegression'>\n"
     ]
    }
   ],
   "source": [
    "import pickle\n",
    "\n",
    "with open('weekly_sales_model.pkl', 'rb') as f:\n",
    "    model = pickle.load(f)\n",
    "\n",
    "print(type(model))"
   ]
  }
 ],
 "metadata": {
  "kernelspec": {
   "display_name": "Python 3 (ipykernel)",
   "language": "python",
   "name": "python3"
  },
  "language_info": {
   "codemirror_mode": {
    "name": "ipython",
    "version": 3
   },
   "file_extension": ".py",
   "mimetype": "text/x-python",
   "name": "python",
   "nbconvert_exporter": "python",
   "pygments_lexer": "ipython3",
   "version": "3.12.3"
  }
 },
 "nbformat": 4,
 "nbformat_minor": 5
}
